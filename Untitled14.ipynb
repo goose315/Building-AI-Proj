{
  "cells": [
    {
      "cell_type": "markdown",
      "metadata": {
        "id": "view-in-github",
        "colab_type": "text"
      },
      "source": [
        "<a href=\"https://colab.research.google.com/github/goose315/Building-AI-Proj/blob/main/Untitled14.ipynb\" target=\"_parent\"><img src=\"https://colab.research.google.com/assets/colab-badge.svg\" alt=\"Open In Colab\"/></a>"
      ]
    },
    {
      "cell_type": "code",
      "execution_count": null,
      "metadata": {
        "id": "7amtlB6dd6NQ",
        "colab": {
          "base_uri": "https://localhost:8080/"
        },
        "outputId": "777d738b-dc77-4a51-a993-a7e90c28e18e"
      },
      "outputs": [
        {
          "output_type": "stream",
          "name": "stdout",
          "text": [
            "Requirement already satisfied: torch_geometric in /usr/local/lib/python3.10/dist-packages (2.5.3)\n",
            "Requirement already satisfied: tqdm in /usr/local/lib/python3.10/dist-packages (from torch_geometric) (4.66.4)\n",
            "Requirement already satisfied: numpy in /usr/local/lib/python3.10/dist-packages (from torch_geometric) (1.25.2)\n",
            "Requirement already satisfied: scipy in /usr/local/lib/python3.10/dist-packages (from torch_geometric) (1.11.4)\n",
            "Requirement already satisfied: fsspec in /usr/local/lib/python3.10/dist-packages (from torch_geometric) (2023.6.0)\n",
            "Requirement already satisfied: jinja2 in /usr/local/lib/python3.10/dist-packages (from torch_geometric) (3.1.4)\n",
            "Requirement already satisfied: aiohttp in /usr/local/lib/python3.10/dist-packages (from torch_geometric) (3.9.5)\n",
            "Requirement already satisfied: requests in /usr/local/lib/python3.10/dist-packages (from torch_geometric) (2.31.0)\n",
            "Requirement already satisfied: pyparsing in /usr/local/lib/python3.10/dist-packages (from torch_geometric) (3.1.2)\n",
            "Requirement already satisfied: scikit-learn in /usr/local/lib/python3.10/dist-packages (from torch_geometric) (1.2.2)\n",
            "Requirement already satisfied: psutil>=5.8.0 in /usr/local/lib/python3.10/dist-packages (from torch_geometric) (5.9.5)\n",
            "Requirement already satisfied: aiosignal>=1.1.2 in /usr/local/lib/python3.10/dist-packages (from aiohttp->torch_geometric) (1.3.1)\n",
            "Requirement already satisfied: attrs>=17.3.0 in /usr/local/lib/python3.10/dist-packages (from aiohttp->torch_geometric) (23.2.0)\n",
            "Requirement already satisfied: frozenlist>=1.1.1 in /usr/local/lib/python3.10/dist-packages (from aiohttp->torch_geometric) (1.4.1)\n",
            "Requirement already satisfied: multidict<7.0,>=4.5 in /usr/local/lib/python3.10/dist-packages (from aiohttp->torch_geometric) (6.0.5)\n",
            "Requirement already satisfied: yarl<2.0,>=1.0 in /usr/local/lib/python3.10/dist-packages (from aiohttp->torch_geometric) (1.9.4)\n",
            "Requirement already satisfied: async-timeout<5.0,>=4.0 in /usr/local/lib/python3.10/dist-packages (from aiohttp->torch_geometric) (4.0.3)\n",
            "Requirement already satisfied: MarkupSafe>=2.0 in /usr/local/lib/python3.10/dist-packages (from jinja2->torch_geometric) (2.1.5)\n",
            "Requirement already satisfied: charset-normalizer<4,>=2 in /usr/local/lib/python3.10/dist-packages (from requests->torch_geometric) (3.3.2)\n",
            "Requirement already satisfied: idna<4,>=2.5 in /usr/local/lib/python3.10/dist-packages (from requests->torch_geometric) (3.7)\n",
            "Requirement already satisfied: urllib3<3,>=1.21.1 in /usr/local/lib/python3.10/dist-packages (from requests->torch_geometric) (2.0.7)\n",
            "Requirement already satisfied: certifi>=2017.4.17 in /usr/local/lib/python3.10/dist-packages (from requests->torch_geometric) (2024.6.2)\n",
            "Requirement already satisfied: joblib>=1.1.1 in /usr/local/lib/python3.10/dist-packages (from scikit-learn->torch_geometric) (1.4.2)\n",
            "Requirement already satisfied: threadpoolctl>=2.0.0 in /usr/local/lib/python3.10/dist-packages (from scikit-learn->torch_geometric) (3.5.0)\n"
          ]
        }
      ],
      "source": [
        "! pip install torch_geometric"
      ]
    },
    {
      "cell_type": "code",
      "execution_count": null,
      "metadata": {
        "id": "Iz8w3_7id-nZ",
        "colab": {
          "base_uri": "https://localhost:8080/"
        },
        "outputId": "734b9c7e-603f-46f9-fd73-59e8167567c2"
      },
      "outputs": [
        {
          "output_type": "stream",
          "name": "stdout",
          "text": [
            "Data(x=[1000, 16], edge_index=[2, 3989])\n"
          ]
        }
      ],
      "source": [
        "import torch\n",
        "import torch.nn.functional as F\n",
        "from torch_geometric.data import Data\n",
        "from torch_geometric.nn import GCNConv\n",
        "from torch_geometric.utils import to_undirected, k_hop_subgraph\n",
        "import numpy as np\n",
        "torch.manual_seed(0)\n",
        "\n",
        "# 生成100个节点的图\n",
        "num_nodes = 1000\n",
        "\n",
        "# 生成随机的边\n",
        "edge_index = torch.randint(0, num_nodes, (2, num_nodes * 2))\n",
        "edge_index = to_undirected(edge_index)  # 保证图是无向图\n",
        "\n",
        "# 生成随机的节点特征（假设每个节点有16个特征）\n",
        "num_features = 16\n",
        "x = torch.randn((num_nodes, num_features))\n",
        "\n",
        "# 创建Data对象\n",
        "data = Data(x=x, edge_index=edge_index)\n",
        "\n",
        "print(data)\n"
      ]
    },
    {
      "cell_type": "code",
      "execution_count": null,
      "metadata": {
        "id": "eKlJQF2BePep"
      },
      "outputs": [],
      "source": [
        "class GCN(torch.nn.Module):\n",
        "    def __init__(self, in_channels, out_channels):\n",
        "        super(GCN, self).__init__()\n",
        "        self.conv1 = GCNConv(in_channels, 16)\n",
        "        self.conv2 = GCNConv(16, out_channels)\n",
        "\n",
        "    def forward(self, data):\n",
        "        x, edge_index = data.x, data.edge_index\n",
        "        x = self.conv1(x, edge_index)\n",
        "        x = F.relu(x)\n",
        "        x = self.conv2(x, edge_index)\n",
        "        return x\n",
        "\n",
        "# 初始化模型、优化器和损失函数\n",
        "model = GCN(num_features, 16)\n",
        "optimizer = torch.optim.Adam(model.parameters(), lr=0.01)\n",
        "criterion = torch.nn.MSELoss()  # 使用MSE作为示例损失函数\n",
        "\n",
        "# 生成随机目标标签\n",
        "target = torch.randn((num_nodes, 16))\n",
        "\n",
        "# 训练模型\n",
        "model.train()\n",
        "for epoch in range(200):\n",
        "    optimizer.zero_grad()\n",
        "    out = model(data)\n",
        "    loss = criterion(out, target)\n",
        "    loss.backward()\n",
        "    optimizer.step()\n",
        "\n",
        "# 获取节点的logits\n",
        "model.eval()\n",
        "with torch.no_grad():\n",
        "    logits = model(data)\n"
      ]
    },
    {
      "cell_type": "code",
      "source": [
        "import torch\n",
        "from torch_geometric.utils import k_hop_subgraph\n",
        "from torch_geometric.data import Data\n",
        "\n",
        "def compute_gde(data, logits, k=1, alpha=0.5):\n",
        "    edge_index = data.edge_index\n",
        "    num_nodes = data.num_nodes\n",
        "\n",
        "    # 初始化每个节点的度数\n",
        "    degrees = torch.zeros(num_nodes, dtype=torch.float)\n",
        "    for i in range(edge_index.size(1)):\n",
        "        degrees[edge_index[0, i]] += 1\n",
        "        degrees[edge_index[1, i]] += 1\n",
        "\n",
        "    # 初始化权重\n",
        "    weights = torch.ones(num_nodes, dtype=torch.float)\n",
        "\n",
        "    def update_weights(node, k):\n",
        "        if k == 1:\n",
        "            return 1.0\n",
        "        neighbors = edge_index[1, edge_index[0] == node]\n",
        "        neighbor_weights = 0.0\n",
        "        for neighbor in neighbors:\n",
        "            neighbor_weights += update_weights(neighbor.item(), k - 1)\n",
        "        return alpha + (1 - alpha) * neighbor_weights / degrees[node]\n",
        "\n",
        "    for node in range(num_nodes):\n",
        "        weights[node] = update_weights(node, k)\n",
        "\n",
        "    gde = torch.zeros(num_nodes)\n",
        "\n",
        "    # 计算每个节点的广义 k-hop Dirichlet energy (GDE)\n",
        "    for node in range(num_nodes):\n",
        "        subgraph_nodes, subgraph_edge_index, _, _ = k_hop_subgraph(node, k, edge_index)\n",
        "        subgraph_nodes = subgraph_nodes.tolist()\n",
        "\n",
        "        for i in subgraph_nodes:\n",
        "            for j in subgraph_nodes:\n",
        "                if i != j:\n",
        "                    a_ij = 1 if edge_index[:, (edge_index[0] == i) & (edge_index[1] == j)].size(1) > 0 else 0\n",
        "                    a_ij += 1 if edge_index[:, (edge_index[0] == j) & (edge_index[1] == i)].size(1) > 0 else 0\n",
        "                    if a_ij > 0:\n",
        "                        diff = (logits[i] / torch.sqrt(1 + degrees[i])) - (logits[j] / torch.sqrt(1 + degrees[j]))\n",
        "                        gde[node] += a_ij * weights[i] * torch.dot(diff, diff)  # 引入权重 b_i\n",
        "\n",
        "    return 0.5 * gde  # 应用公式中的1/2系数\n",
        "\n",
        "k = 2  # 设置k值\n",
        "alpha = 0.5  # 设置alpha值\n",
        "gde = compute_gde(data, logits, k, alpha)\n",
        "print(gde)"
      ],
      "metadata": {
        "id": "N81FVY1dCDYn"
      },
      "execution_count": null,
      "outputs": []
    },
    {
      "cell_type": "markdown",
      "source": [],
      "metadata": {
        "id": "XM_VJDNBHGgk"
      }
    },
    {
      "cell_type": "code",
      "source": [
        "import torch\n",
        "from torch_geometric.utils import k_hop_subgraph\n",
        "from torch_geometric.data import Data\n",
        "\n",
        "def compute_gde(data, logits, target_nodes, k=1, alpha=0.5):\n",
        "    edge_index = data.edge_index\n",
        "    num_nodes = data.num_nodes\n",
        "\n",
        "    # 初始化每个节点的度数\n",
        "    degrees = torch.zeros(num_nodes, dtype=torch.float)\n",
        "    for i in range(edge_index.size(1)):\n",
        "        degrees[edge_index[0, i]] += 1\n",
        "        degrees[edge_index[1, i]] += 1\n",
        "\n",
        "    # 初始化权重\n",
        "    weights = torch.ones(num_nodes, dtype=torch.float)\n",
        "\n",
        "    def update_weights(node, k):\n",
        "        if k == 1:\n",
        "            return 1.0\n",
        "        neighbors = edge_index[1, edge_index[0] == node]\n",
        "        neighbor_weights = 0.0\n",
        "        for neighbor in neighbors:\n",
        "            neighbor_weights += update_weights(neighbor.item(), k - 1)\n",
        "        return alpha + (1 - alpha) * neighbor_weights / degrees[node]\n",
        "\n",
        "    for node in range(num_nodes):\n",
        "        weights[node] = update_weights(node, k)\n",
        "\n",
        "    gde = torch.zeros(len(target_nodes))\n",
        "\n",
        "    # 计算每个目标节点的广义 k-hop Dirichlet energy (GDE)\n",
        "    for idx, node in enumerate(target_nodes):\n",
        "        subgraph_nodes, subgraph_edge_index, _, _ = k_hop_subgraph(node.item(), k, edge_index)\n",
        "        subgraph_nodes = subgraph_nodes.tolist()\n",
        "\n",
        "        for i in subgraph_nodes:\n",
        "            for j in subgraph_nodes:\n",
        "                if i != j:\n",
        "                    a_ij = 1 if edge_index[:, (edge_index[0] == i) & (edge_index[1] == j)].size(1) > 0 else 0\n",
        "                    a_ij += 1 if edge_index[:, (edge_index[0] == j) & (edge_index[1] == i)].size(1) > 0 else 0\n",
        "                    if a_ij > 0:\n",
        "                        diff = (logits[i] / torch.sqrt(1 + degrees[i])) - (logits[j] / torch.sqrt(1 + degrees[j]))\n",
        "                        gde[idx] += a_ij * weights[i] * torch.dot(diff, diff)  # 引入权重 b_i\n",
        "\n",
        "    return 0.5 * gde  # 应用公式中的1/2系数\n",
        "\n",
        "k = 2  # 设置k值\n",
        "alpha = 0.5  # 设置alpha值\n",
        "target_nodes = torch.randint(0, num_nodes, (20,))  # 随机生成20个目标节点标签\n",
        "\n",
        "gde = compute_gde(data, logits, target_nodes, k, alpha)\n",
        "print(gde)\n",
        "\n"
      ],
      "metadata": {
        "colab": {
          "base_uri": "https://localhost:8080/"
        },
        "id": "UIm6Ao0-EjGo",
        "outputId": "f6b6c069-b5cd-44a8-d00a-89c152ea1537"
      },
      "execution_count": null,
      "outputs": [
        {
          "output_type": "stream",
          "name": "stdout",
          "text": [
            "tensor([4.0530, 1.2688, 0.8214, 2.3749, 1.5706, 2.1042, 2.6945, 1.6624, 2.0462,\n",
            "        0.0000, 2.4123, 1.5459, 2.1830, 2.4841, 0.8445, 1.0215, 1.3843, 2.1180,\n",
            "        1.3072, 1.0950])\n"
          ]
        }
      ]
    },
    {
      "cell_type": "code",
      "execution_count": null,
      "metadata": {
        "id": "OAYds2pW_7lF"
      },
      "outputs": [],
      "source": [
        "import torch\n",
        "from torch_geometric.utils import k_hop_subgraph\n",
        "from torch_geometric.data import Data\n",
        "\n",
        "def compute_kHDE(data, logits, k=1, checkpoint_interval=10):\n",
        "    edge_index = data.edge_index\n",
        "    num_nodes = data.num_nodes\n",
        "\n",
        "    # 初始化每个节点的度数\n",
        "    degrees = torch.zeros(num_nodes, dtype=torch.float)\n",
        "    for i in range(edge_index.size(1)):\n",
        "        degrees[edge_index[0, i]] += 1\n",
        "        degrees[edge_index[1, i]] += 1\n",
        "\n",
        "    kHDE = torch.zeros(num_nodes)\n",
        "\n",
        "    # 计算每个节点的k-hop Dirichlet energy\n",
        "    for node in range(num_nodes):\n",
        "        subgraph_nodes, subgraph_edge_index, _, _ = k_hop_subgraph(node, k, edge_index)\n",
        "        subgraph_nodes = subgraph_nodes.tolist()\n",
        "\n",
        "        for i in subgraph_nodes:\n",
        "            for j in subgraph_nodes:\n",
        "                if i != j:\n",
        "                    a_ij = 1 if edge_index[:, (edge_index[0] == i) & (edge_index[1] == j)].size(1) > 0 else 0\n",
        "                    a_ij += 1 if edge_index[:, (edge_index[0] == j) & (edge_index[1] == i)].size(1) > 0 else 0\n",
        "                    if a_ij > 0:\n",
        "                        diff = (logits[i] / torch.sqrt(1 + degrees[i])) - (logits[j] / torch.sqrt(1 + degrees[j]))\n",
        "                        kHDE[node] += a_ij * torch.dot(diff, diff)  # 计算欧氏距离的平方\n",
        "\n",
        "        # 检查点输出\n",
        "        if (node + 1) % checkpoint_interval == 0:\n",
        "            print(f'{node + 1}/{num_nodes} nodes processed.')\n",
        "\n",
        "    return 0.5 * kHDE  # 应用公式中的1/2系数\n",
        "\n",
        "k = 2  # 设置k值\n",
        "kHDE = compute_kHDE(data, logits, k)\n",
        "print(kHDE)\n"
      ]
    },
    {
      "cell_type": "code",
      "execution_count": null,
      "metadata": {
        "colab": {
          "base_uri": "https://localhost:8080/"
        },
        "id": "vU6A0T5mN3rx",
        "outputId": "b9835e2e-2080-458b-f773-87ce5a99f515"
      },
      "outputs": [
        {
          "metadata": {
            "tags": null
          },
          "name": "stdout",
          "output_type": "stream",
          "text": [
            "10/10000 nodes processed.\n",
            "20/10000 nodes processed.\n"
          ]
        }
      ],
      "source": [
        "import torch\n",
        "from torch_geometric.utils import k_hop_subgraph\n",
        "from torch_geometric.data import Data\n",
        "import concurrent.futures\n",
        "\n",
        "def compute_kHDE_single_node(node, data, logits, k, degrees):\n",
        "    edge_index = data.edge_index\n",
        "    kHDE_node = 0.0\n",
        "    subgraph_nodes, subgraph_edge_index, _, _ = k_hop_subgraph(node, k, edge_index)\n",
        "    subgraph_nodes = subgraph_nodes.tolist()\n",
        "\n",
        "    for i in subgraph_nodes:\n",
        "        for j in subgraph_nodes:\n",
        "            if i != j:\n",
        "                a_ij = 1 if edge_index[:, (edge_index[0] == i) & (edge_index[1] == j)].size(1) > 0 else 0\n",
        "                a_ij += 1 if edge_index[:, (edge_index[0] == j) & (edge_index[1] == i)].size(1) > 0 else 0\n",
        "                if a_ij > 0:\n",
        "                    diff = (logits[i] / torch.sqrt(1 + degrees[i])) - (logits[j] / torch.sqrt(1 + degrees[j]))\n",
        "                    kHDE_node += a_ij * torch.dot(diff, diff)  # 计算欧氏距离的平方\n",
        "\n",
        "    return 0.5 * kHDE_node  # 应用公式中的1/2系数\n",
        "\n",
        "def compute_kHDE(data, logits, k=1, checkpoint_interval=10):\n",
        "    edge_index = data.edge_index\n",
        "    num_nodes = data.num_nodes\n",
        "\n",
        "    # 初始化每个节点的度数\n",
        "    degrees = torch.zeros(num_nodes, dtype=torch.float)\n",
        "    for i in range(edge_index.size(1)):\n",
        "        degrees[edge_index[0, i]] += 1\n",
        "        degrees[edge_index[1, i]] += 1\n",
        "\n",
        "    kHDE = torch.zeros(num_nodes)\n",
        "\n",
        "    # 使用多线程进行并行计算\n",
        "    with concurrent.futures.ThreadPoolExecutor() as executor:\n",
        "        futures = [executor.submit(compute_kHDE_single_node, node, data, logits, k, degrees) for node in range(num_nodes)]\n",
        "        for idx, future in enumerate(concurrent.futures.as_completed(futures)):\n",
        "            kHDE[idx] = future.result()\n",
        "            # 检查点输出\n",
        "            if (idx + 1) % checkpoint_interval == 0:\n",
        "                print(f'{idx + 1}/{num_nodes} nodes processed.')\n",
        "\n",
        "    return kHDE\n",
        "\n",
        "k = 3  # 设置k值\n",
        "checkpoint_interval = 10  # 设置检查点输出间隔\n",
        "kHDE = compute_kHDE(data, logits, k, checkpoint_interval)\n",
        "print(kHDE)\n"
      ]
    },
    {
      "cell_type": "code",
      "execution_count": null,
      "metadata": {
        "colab": {
          "base_uri": "https://localhost:8080/"
        },
        "id": "TqJDMTNpD9Q3",
        "outputId": "651cb4a2-c820-4bff-8888-2d2e5ee0bc8b"
      },
      "outputs": [
        {
          "name": "stdout",
          "output_type": "stream",
          "text": [
            "Epoch [100/1000], Loss: 0.9049\n",
            "Epoch [200/1000], Loss: 0.9049\n",
            "Epoch [300/1000], Loss: 0.9049\n",
            "Epoch [400/1000], Loss: 0.9049\n",
            "Epoch [500/1000], Loss: 0.9049\n",
            "Epoch [600/1000], Loss: 0.9048\n",
            "Epoch [700/1000], Loss: 0.9048\n",
            "Epoch [800/1000], Loss: 0.9048\n",
            "Epoch [900/1000], Loss: 0.9048\n",
            "Epoch [1000/1000], Loss: 0.9048\n"
          ]
        }
      ],
      "source": [
        "import torch\n",
        "import torch.nn as nn\n",
        "import torch.optim as optim\n",
        "\n",
        "class MultiClassDiscriminator(nn.Module):\n",
        "    def __init__(self, input_dim, num_classes):\n",
        "        super(MultiClassDiscriminator, self).__init__()\n",
        "        self.fc = nn.Sequential(\n",
        "            nn.Linear(input_dim, 256),\n",
        "            nn.ReLU(),\n",
        "            nn.Linear(256, 128),\n",
        "            nn.ReLU(),\n",
        "            nn.Linear(128, num_classes),\n",
        "            nn.Softmax(dim=1)\n",
        "        )\n",
        "\n",
        "    def forward(self, x):\n",
        "        return self.fc(x)\n",
        "\n",
        "input_dim = 256\n",
        "num_classes = 5  # 因为是5分类\n",
        "discriminator = MultiClassDiscriminator(input_dim, num_classes)\n",
        "\n",
        "# 假设 source_embeddings 和 target_embeddings 已经是 numpy 数组或 PyTorch 张量\n",
        "source_embeddings = torch.randn(100, 256)  # 代替实际的数据\n",
        "target_embeddings = torch.randn(125, 256)  # 代替实际的数据\n",
        "\n",
        "# 标签：假设已经有对应的标签，标签为 0 到 4 之间的整数\n",
        "source_labels = torch.randint(0, 5, (100,))\n",
        "target_labels = torch.randint(0, 5, (125,))\n",
        "\n",
        "# 损失函数和优化器\n",
        "criterion = nn.CrossEntropyLoss()\n",
        "optimizer = optim.Adam(discriminator.parameters(), lr=0.001)\n",
        "\n",
        "# 训练判别器\n",
        "num_epochs = 1000\n",
        "for epoch in range(num_epochs):\n",
        "    discriminator.train()\n",
        "    optimizer.zero_grad()\n",
        "\n",
        "    outputs = discriminator(torch.cat((source_embeddings, target_embeddings), dim=0))\n",
        "    labels = torch.cat((source_labels, target_labels), dim=0)\n",
        "\n",
        "    loss = criterion(outputs, labels)\n",
        "\n",
        "    loss.backward()\n",
        "    optimizer.step()\n",
        "\n",
        "    if (epoch + 1) % 100 == 0:\n",
        "        print(f'Epoch [{epoch + 1}/{num_epochs}], Loss: {loss.item():.4f}')\n"
      ]
    },
    {
      "cell_type": "code",
      "execution_count": null,
      "metadata": {
        "colab": {
          "base_uri": "https://localhost:8080/"
        },
        "id": "3QW7H_44BfDL",
        "outputId": "1d1cd604-9e28-4bda-e079-0520ee0d9292"
      },
      "outputs": [
        {
          "name": "stdout",
          "output_type": "stream",
          "text": [
            "Source Dataset Adversarial Scores (Cross-Entropy Loss):\n",
            "[0.90484065 0.90484005 0.90483874 0.9048393  0.90484005 0.9048368\n",
            " 0.90483546 0.90484065 0.9048333  0.904837   0.90484065 0.90483797\n",
            " 0.904836   0.90483797 0.90484315 0.9048479  0.904835   0.90484107\n",
            " 0.90483785 0.9048386  0.9048389  0.90484035 0.9048447  0.9048378\n",
            " 0.904837   0.9048371  0.9048403  0.90484184 0.90484405 0.9048403\n",
            " 0.90483546 0.90484184 0.904836   0.9048378  0.90483874 0.904836\n",
            " 0.9048389  0.9048347  0.90484375 0.90484    0.9048395  0.904837\n",
            " 0.90483814 0.9048414  0.9048411  0.9048422  0.9048397  0.9048386\n",
            " 0.90483874 0.9048345  0.90483904 0.90484565 0.9048372  0.90484095\n",
            " 0.9048353  0.90484005 0.9048361  0.90483373 0.904838   0.90483904\n",
            " 0.90483797 0.90483814 0.90483904 0.90484315 0.90483785 0.9048424\n",
            " 0.90483814 0.90484434 0.90483326 0.904835   0.904836   0.9048389\n",
            " 0.90483516 0.904837   0.90484124 0.9048358  0.90484    0.90483874\n",
            " 0.9048383  0.9048444  0.9048372  0.9048411  0.90483856 0.90483856\n",
            " 0.904837   0.9048392  0.90484154 0.90483844 0.90483785 0.9048389\n",
            " 0.9048372  0.9048413  0.90483594 0.904836   0.90483654 0.90483874\n",
            " 0.90483534 0.90483874 0.9048398  0.90483814]\n",
            "Target Dataset Adversarial Scores (Cross-Entropy Loss):\n",
            "[0.9048364  0.9048397  0.9048421  0.9048397  0.90484065 0.9048383\n",
            " 0.90484047 0.9048389  0.9048439  0.90483874 0.9048347  0.9048394\n",
            " 0.9048414  0.9048386  0.904837   0.9048367  0.9048475  0.9048391\n",
            " 0.90483546 0.9048383  0.90483856 0.9048391  0.90484124 0.9048394\n",
            " 0.90483254 0.90483457 0.9048364  0.9048411  0.90484434 0.90484613\n",
            " 0.90483654 0.9048383  0.9048403  0.90484005 0.90483797 0.90484184\n",
            " 0.90484357 0.90484154 0.904838   0.90483576 0.90484047 0.90484565\n",
            " 0.90483814 0.90483654 0.9048486  0.9048417  0.9048388  0.90483826\n",
            " 0.90484065 0.9048372  0.90483624 0.9048394  0.90484875 0.9048383\n",
            " 0.9048378  0.9048353  0.904836   0.9048386  0.9048378  0.9048395\n",
            " 0.90483844 0.9048389  0.9048398  0.9048368  0.9048436  0.9048345\n",
            " 0.9048335  0.90483856 0.9048371  0.9048425  0.9048403  0.9048363\n",
            " 0.9048375  0.9048393  0.90483856 0.90483844 0.90483874 0.9048394\n",
            " 0.90483505 0.90483755 0.9048378  0.90484107 0.904838   0.9048395\n",
            " 0.90483737 0.9048366  0.90483564 0.9048338  0.9048386  0.9048428\n",
            " 0.90483856 0.90483314 0.90483475 0.9048388  0.9048372  0.9048343\n",
            " 0.90483457 0.904837   0.9048389  0.90484047 0.9048422  0.9048403\n",
            " 0.9048378  0.9048364  0.90484047 0.9048445  0.9048389  0.9048368\n",
            " 0.9048408  0.9048396  0.90484047 0.90483797 0.9048353  0.904843\n",
            " 0.9048416  0.90483755 0.90484595 0.90483767 0.9048423  0.9048395\n",
            " 0.9048378  0.9048364  0.9048341  0.9048431  0.90484285]\n"
          ]
        }
      ],
      "source": [
        "# 计算交叉熵损失的函数\n",
        "def calculate_node_loss(predictions, labels):\n",
        "    loss_function = nn.CrossEntropyLoss(reduction='none')\n",
        "    return loss_function(predictions, labels)\n",
        "\n",
        "# 获取预测结果\n",
        "discriminator.eval()\n",
        "with torch.no_grad():\n",
        "    source_predictions = discriminator(source_embeddings)\n",
        "    target_predictions = discriminator(target_embeddings)\n",
        "\n",
        "# 计算每个节点的对抗分数（交叉熵损失）\n",
        "source_losses = calculate_node_loss(source_predictions, source_labels)\n",
        "target_losses = calculate_node_loss(target_predictions, target_labels)\n",
        "\n",
        "# 将对抗分数转为 numpy 数组以便查看\n",
        "source_scores = source_losses.numpy()\n",
        "target_scores = target_losses.numpy()\n",
        "\n",
        "# 打印每个节点的对抗分数\n",
        "print(\"Source Dataset Adversarial Scores (Cross-Entropy Loss):\")\n",
        "print(source_scores)\n",
        "\n",
        "print(\"Target Dataset Adversarial Scores (Cross-Entropy Loss):\")\n",
        "print(target_scores)\n",
        "\n",
        "\n"
      ]
    }
  ],
  "metadata": {
    "colab": {
      "provenance": [],
      "authorship_tag": "ABX9TyMTn3cm5yOhxQ6G2hAnBiDQ",
      "include_colab_link": true
    },
    "kernelspec": {
      "display_name": "Python 3",
      "name": "python3"
    },
    "language_info": {
      "name": "python"
    }
  },
  "nbformat": 4,
  "nbformat_minor": 0
}